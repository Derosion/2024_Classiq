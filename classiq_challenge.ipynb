{
 "cells": [
  {
   "cell_type": "markdown",
   "metadata": {},
   "source": [
    "# Classiq Challenge - Quantum Arithmetics"
   ]
  },
  {
   "cell_type": "markdown",
   "metadata": {},
   "source": [
    "Welcome to the Classiq challenge of the 2024 MIT IQuHack hackathon!\n",
    "This Jupyter notebook is the framework for the challenge and you should follow it in order to solve it using Classiq (alongside the guidelines of the challenge).\n",
    "\n",
    "The notebook has 3 parts:\n",
    "1. A warm up session, just to get up to speed with a small example of Classiq\n",
    "2. The challenge itself, including what you need to create, what's the format, and how you can check yourself\n",
    "3. A cheat sheet with relevant Classiq functions declarations\n",
    "\n",
    "Additional resources you should use are\n",
    "- The IDE of the classiq platform at [platform.classiq.io](platform.classiq.io)\n",
    "- The [community Slack of Classiq](https://short.classiq.io/join-slack) - Classiq's team will answer any question you have over there, including implementation questions\n",
    "- [Classiq's documentation](https://docs.classiq.io/latest/user-guide/platform/) with the dedicated [Python SDK explanations](https://docs.classiq.io/latest/user-guide/platform/qmod/python/functions/)\n",
    "\n",
    "Good luck!"
   ]
  },
  {
   "cell_type": "markdown",
   "metadata": {},
   "source": [
    "![MITClassiq](data:image/png;base64,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)"
   ]
  },
  {
   "cell_type": "markdown",
   "metadata": {},
   "source": [
    "## Warm Up"
   ]
  },
  {
   "cell_type": "markdown",
   "metadata": {},
   "source": [
    "Firstly, if you haven't done so far, you need to install the Classiq SDK package: "
   ]
  },
  {
   "cell_type": "code",
   "execution_count": 1,
   "metadata": {},
   "outputs": [
    {
     "name": "stdout",
     "output_type": "stream",
     "text": [
      "Requirement already satisfied: classiq in c:\\users\\daboss\\downloads\\2024_classiq\\.conda\\lib\\site-packages (0.36.1)\n",
      "Requirement already satisfied: ConfigArgParse<2.0.0,>=1.5.3 in c:\\users\\daboss\\downloads\\2024_classiq\\.conda\\lib\\site-packages (from classiq) (1.7)\n",
      "Requirement already satisfied: Pyomo<6.6,>=6.5 in c:\\users\\daboss\\downloads\\2024_classiq\\.conda\\lib\\site-packages (from classiq) (6.5.0)\n",
      "Requirement already satisfied: httpx<1,>=0.23.0 in c:\\users\\daboss\\downloads\\2024_classiq\\.conda\\lib\\site-packages (from classiq) (0.26.0)\n",
      "Requirement already satisfied: keyring<24.0.0,>=23.5.0 in c:\\users\\daboss\\downloads\\2024_classiq\\.conda\\lib\\site-packages (from classiq) (23.13.1)\n",
      "Requirement already satisfied: matplotlib<4.0.0,>=3.4.3 in c:\\users\\daboss\\downloads\\2024_classiq\\.conda\\lib\\site-packages (from classiq) (3.8.2)\n",
      "Requirement already satisfied: networkx<3.0.0,>=2.5.1 in c:\\users\\daboss\\downloads\\2024_classiq\\.conda\\lib\\site-packages (from classiq) (2.8.8)\n",
      "Requirement already satisfied: numexpr<3.0.0,>=2.7.3 in c:\\users\\daboss\\downloads\\2024_classiq\\.conda\\lib\\site-packages (from classiq) (2.9.0)\n",
      "Requirement already satisfied: numpy<2.0.0,>=1.20.1 in c:\\users\\daboss\\downloads\\2024_classiq\\.conda\\lib\\site-packages (from classiq) (1.26.3)\n",
      "Requirement already satisfied: packaging<22.0,>=21.3 in c:\\users\\daboss\\downloads\\2024_classiq\\.conda\\lib\\site-packages (from classiq) (21.3)\n",
      "Requirement already satisfied: pandas<2.0.0,>=1.4.0 in c:\\users\\daboss\\downloads\\2024_classiq\\.conda\\lib\\site-packages (from classiq) (1.5.3)\n",
      "Requirement already satisfied: plotly<6.0.0,>=5.7.0 in c:\\users\\daboss\\downloads\\2024_classiq\\.conda\\lib\\site-packages (from classiq) (5.18.0)\n",
      "Requirement already satisfied: pydantic<2.0.0,>=1.9.1 in c:\\users\\daboss\\downloads\\2024_classiq\\.conda\\lib\\site-packages (from classiq) (1.10.14)\n",
      "Requirement already satisfied: sympy<1.11.0,>=1.9.0 in c:\\users\\daboss\\downloads\\2024_classiq\\.conda\\lib\\site-packages (from classiq) (1.10.1)\n",
      "Requirement already satisfied: tabulate<1,>=0.8.9 in c:\\users\\daboss\\downloads\\2024_classiq\\.conda\\lib\\site-packages (from classiq) (0.9.0)\n",
      "Requirement already satisfied: anyio in c:\\users\\daboss\\downloads\\2024_classiq\\.conda\\lib\\site-packages (from httpx<1,>=0.23.0->classiq) (4.2.0)\n",
      "Requirement already satisfied: certifi in c:\\users\\daboss\\downloads\\2024_classiq\\.conda\\lib\\site-packages (from httpx<1,>=0.23.0->classiq) (2024.2.2)\n",
      "Requirement already satisfied: httpcore==1.* in c:\\users\\daboss\\downloads\\2024_classiq\\.conda\\lib\\site-packages (from httpx<1,>=0.23.0->classiq) (1.0.2)\n",
      "Requirement already satisfied: idna in c:\\users\\daboss\\downloads\\2024_classiq\\.conda\\lib\\site-packages (from httpx<1,>=0.23.0->classiq) (3.6)\n",
      "Requirement already satisfied: sniffio in c:\\users\\daboss\\downloads\\2024_classiq\\.conda\\lib\\site-packages (from httpx<1,>=0.23.0->classiq) (1.3.0)\n",
      "Requirement already satisfied: h11<0.15,>=0.13 in c:\\users\\daboss\\downloads\\2024_classiq\\.conda\\lib\\site-packages (from httpcore==1.*->httpx<1,>=0.23.0->classiq) (0.14.0)\n",
      "Requirement already satisfied: jaraco.classes in c:\\users\\daboss\\downloads\\2024_classiq\\.conda\\lib\\site-packages (from keyring<24.0.0,>=23.5.0->classiq) (3.3.0)\n",
      "Requirement already satisfied: importlib-metadata>=4.11.4 in c:\\users\\daboss\\downloads\\2024_classiq\\.conda\\lib\\site-packages (from keyring<24.0.0,>=23.5.0->classiq) (7.0.1)\n",
      "Requirement already satisfied: pywin32-ctypes>=0.2.0 in c:\\users\\daboss\\downloads\\2024_classiq\\.conda\\lib\\site-packages (from keyring<24.0.0,>=23.5.0->classiq) (0.2.2)\n",
      "Requirement already satisfied: contourpy>=1.0.1 in c:\\users\\daboss\\downloads\\2024_classiq\\.conda\\lib\\site-packages (from matplotlib<4.0.0,>=3.4.3->classiq) (1.2.0)\n",
      "Requirement already satisfied: cycler>=0.10 in c:\\users\\daboss\\downloads\\2024_classiq\\.conda\\lib\\site-packages (from matplotlib<4.0.0,>=3.4.3->classiq) (0.12.1)\n",
      "Requirement already satisfied: fonttools>=4.22.0 in c:\\users\\daboss\\downloads\\2024_classiq\\.conda\\lib\\site-packages (from matplotlib<4.0.0,>=3.4.3->classiq) (4.47.2)\n",
      "Requirement already satisfied: kiwisolver>=1.3.1 in c:\\users\\daboss\\downloads\\2024_classiq\\.conda\\lib\\site-packages (from matplotlib<4.0.0,>=3.4.3->classiq) (1.4.5)\n",
      "Requirement already satisfied: pillow>=8 in c:\\users\\daboss\\downloads\\2024_classiq\\.conda\\lib\\site-packages (from matplotlib<4.0.0,>=3.4.3->classiq) (10.2.0)\n",
      "Requirement already satisfied: pyparsing>=2.3.1 in c:\\users\\daboss\\downloads\\2024_classiq\\.conda\\lib\\site-packages (from matplotlib<4.0.0,>=3.4.3->classiq) (3.1.1)\n",
      "Requirement already satisfied: python-dateutil>=2.7 in c:\\users\\daboss\\downloads\\2024_classiq\\.conda\\lib\\site-packages (from matplotlib<4.0.0,>=3.4.3->classiq) (2.8.2)\n",
      "Requirement already satisfied: pytz>=2020.1 in c:\\users\\daboss\\downloads\\2024_classiq\\.conda\\lib\\site-packages (from pandas<2.0.0,>=1.4.0->classiq) (2024.1)\n",
      "Requirement already satisfied: tenacity>=6.2.0 in c:\\users\\daboss\\downloads\\2024_classiq\\.conda\\lib\\site-packages (from plotly<6.0.0,>=5.7.0->classiq) (8.2.3)\n",
      "Requirement already satisfied: typing-extensions>=4.2.0 in c:\\users\\daboss\\downloads\\2024_classiq\\.conda\\lib\\site-packages (from pydantic<2.0.0,>=1.9.1->classiq) (4.9.0)\n",
      "Requirement already satisfied: ply in c:\\users\\daboss\\downloads\\2024_classiq\\.conda\\lib\\site-packages (from Pyomo<6.6,>=6.5->classiq) (3.11)\n",
      "Requirement already satisfied: mpmath>=0.19 in c:\\users\\daboss\\downloads\\2024_classiq\\.conda\\lib\\site-packages (from sympy<1.11.0,>=1.9.0->classiq) (1.3.0)\n",
      "Requirement already satisfied: zipp>=0.5 in c:\\users\\daboss\\downloads\\2024_classiq\\.conda\\lib\\site-packages (from importlib-metadata>=4.11.4->keyring<24.0.0,>=23.5.0->classiq) (3.17.0)\n",
      "Requirement already satisfied: six>=1.5 in c:\\users\\daboss\\downloads\\2024_classiq\\.conda\\lib\\site-packages (from python-dateutil>=2.7->matplotlib<4.0.0,>=3.4.3->classiq) (1.16.0)\n",
      "Requirement already satisfied: more-itertools in c:\\users\\daboss\\downloads\\2024_classiq\\.conda\\lib\\site-packages (from jaraco.classes->keyring<24.0.0,>=23.5.0->classiq) (10.2.0)\n",
      "Note: you may need to restart the kernel to use updated packages.\n"
     ]
    }
   ],
   "source": [
    "%pip install -U classiq"
   ]
  },
  {
   "cell_type": "markdown",
   "metadata": {},
   "source": [
    "and to authenticate your device against the Classiq backend:"
   ]
  },
  {
   "cell_type": "code",
   "execution_count": null,
   "metadata": {},
   "outputs": [],
   "source": [
    "import classiq\n",
    "classiq.authenticate()"
   ]
  },
  {
   "cell_type": "markdown",
   "metadata": {},
   "source": [
    "Let's create a uniform superposition of numbers in the domain $[0,1)$ with equal spacing of $\\frac{1}{2^K}$ for $K=5$:"
   ]
  },
  {
   "cell_type": "code",
   "execution_count": 5,
   "metadata": {},
   "outputs": [
    {
     "name": "stdout",
     "output_type": "stream",
     "text": [
      "Opening: https://platform.classiq.io/circuit/155ad8b7-5747-42a9-9faf-5dc819ec3925?version=0.36.1\n"
     ]
    }
   ],
   "source": [
    "from classiq import *\n",
    "K =5\n",
    "\n",
    "@QFunc\n",
    "def main(x:Output[QNum]):\n",
    "    allocate_num(num_qubits=K, is_signed=False, fraction_digits=K,out=x)\n",
    "    hadamard_transform(x)\n",
    "\n",
    "quantum_model = create_model(main)\n",
    "quantum_program = synthesize(quantum_model)\n",
    "\n",
    "show(quantum_program) # view the circuit in the IDE\n",
    "\n",
    "job = execute(quantum_program)\n",
    "job.open_in_ide() # view the resulted histogram in the IDE"
   ]
  },
  {
   "cell_type": "markdown",
   "metadata": {},
   "source": [
    "That's cool right? :)\n",
    "\n",
    "If you are more a Python person, this is how you can post-process your results:"
   ]
  },
  {
   "cell_type": "code",
   "execution_count": null,
   "metadata": {},
   "outputs": [],
   "source": [
    "parsed_counts = results.result()[0].value.parsed_counts\n",
    "sorted_counts = sorted(parsed_counts, key=lambda x: x.state[\"x\"])\n",
    "for state_counts in sorted_counts: print('State: ', state_counts.state, '| Shots: ', state_counts.shots)"
   ]
  },
  {
   "cell_type": "markdown",
   "metadata": {},
   "source": [
    "## The Challenge Itself"
   ]
  },
  {
   "cell_type": "markdown",
   "metadata": {},
   "source": [
    "### Imports"
   ]
  },
  {
   "cell_type": "code",
   "execution_count": 2,
   "metadata": {},
   "outputs": [],
   "source": [
    "# All the imports needed\n",
    "from classiq import *\n",
    "\n",
    "from classiq.interface.backend.backend_preferences import ClassiqBackendPreferences\n",
    "from classiq.interface.executor.execution_preferences import ExecutionPreferences\n",
    "from classiq.interface.model.model import Model as Model_Designer\n",
    "\n",
    "import numpy as np\n",
    "import json"
   ]
  },
  {
   "cell_type": "markdown",
   "metadata": {},
   "source": [
    "### The Heart of the Code - Build Your Algorithm Here"
   ]
  },
  {
   "cell_type": "code",
   "execution_count": 17,
   "metadata": {},
   "outputs": [],
   "source": [
    "# # The functions you need go here\n",
    "# # import math\n",
    "\n",
    "# # def tanh_taylor(x, num_terms):\n",
    "# #     \"\"\"\n",
    "# #     Computes the Taylor series approximation of tanh(x) up to a specified number of terms.\n",
    "\n",
    "# #     Args:\n",
    "# #         x: The value at which to evaluate tanh(x).\n",
    "# #         num_terms: The number of terms to include in the Taylor series approximation.\n",
    "\n",
    "# #     Returns:\n",
    "# #         The approximate value of tanh(x) using the Taylor series.\n",
    "# #     \"\"\"\n",
    "\n",
    "# #     result = 0\n",
    "# #     for n in range(1, num_terms + 1):\n",
    "# #         term = 2 * (-1)**(n + 1) * math.factorial(2 * n) / (4**n * math.factorial(n)) * x**(2 * n - 1)\n",
    "# #         result += term\n",
    "# #     return result\n",
    "# import math\n",
    "\n",
    "# class Chebyshev:\n",
    "#     \"\"\"\n",
    "#     Chebyshev(a, b, n, func)\n",
    "#     Given a function func, lower and upper limits of the interval [a,b],\n",
    "#     and maximum degree n, this class computes a Chebyshev approximation\n",
    "#     of the function.\n",
    "#     Method eval(x) yields the approximated function value.\n",
    "#     \"\"\"\n",
    "#     @QFunc\n",
    "#     def __init__(self, a: QParam[int], b: QParam[int], n: QParam[int], func: QParam[QFunc]):\n",
    "#         self.a = a\n",
    "#         self.b = b\n",
    "#         self.func = func\n",
    "\n",
    "#         bma = 0.5 * (b - a)\n",
    "#         bpa = 0.5 * (b + a)\n",
    "#         f = [func(math.cos(math.pi * (k + 0.5) / n) * bma + bpa) for k in range(n)]\n",
    "#         fac = 2.0 / n\n",
    "#         self.c = [fac * sum([f[k] * math.cos(math.pi * j * (k + 0.5) / n)\n",
    "#                   for k in range(n)]) for j in range(n)]\n",
    "#     @QFunc\n",
    "#     def eval(self, x: QNum):\n",
    "#         a,b = self.a, self.b\n",
    "#         assert(a <= x <= b)\n",
    "#         y = (2.0 * x - a - b) * (1.0 / (b - a))\n",
    "#         y2 = 2.0 * y\n",
    "#         (d, dd) = (self.c[-1], 0)             # Special case first step for efficiency\n",
    "#         for cj in self.c[-2:0:-1]:            # Clenshaw's recurrence\n",
    "#             (d, dd) = (y2 * d - dd + cj, d)\n",
    "#         y * d - dd + 0.5 * self.c[0]   # Last step is different\n",
    "\n",
    "\n",
    "\n",
    "\n",
    "# # import math\n",
    "# # import numpy as np\n",
    "# # def chebspace(npts):\n",
    "# #     t = (np.array(range(0,npts)) + 0.5) / npts\n",
    "# #     return -np.cos(t*math.pi)\n",
    "# # def chebmat(u, N):\n",
    "# #     T = np.column_stack((np.ones(len(u)), u))\n",
    "# #     for n in range(2,N+1):\n",
    "# #         Tnext = 2*u*T[:,n-1] - T[:,n-2]\n",
    "# #         T = np.column_stack((T,Tnext))\n",
    "# #     return T\n",
    "# # class Cheby(object):\n",
    "# #     def __init__(self, a, b, *coeffs):\n",
    "# #         self.c = (a+b)/2.0\n",
    "# #         self.m = (b-a)/2.0\n",
    "# #         self.coeffs = np.array(coeffs, ndmin=1)\n",
    "# #     def rangestart(self):\n",
    "# #         return self.c-self.m\n",
    "# #     def rangeend(self):\n",
    "# #         return self.c+self.m\n",
    "# #     def range(self):\n",
    "# #         return (self.rangestart(), self.rangeend())\n",
    "# #     def degree(self):\n",
    "# #         return len(self.coeffs)-1\n",
    "# #     def truncate(self, n):\n",
    "# #         return Cheby(self.rangestart(), self.rangeend(), *self.coeffs[0:n+1])\n",
    "# #     def asTaylor(self, x0=0, m0=1.0):\n",
    "# #         n = self.degree()+1\n",
    "# #         Tprev = np.zeros(n)\n",
    "# #         T = np.zeros(n)\n",
    "# #         Tprev[0] = 1\n",
    "# #         T[1]  = 1\n",
    "# #         # evaluate y = Chebyshev functions as polynomials in u\n",
    "# #         y = self.coeffs[0] * Tprev\n",
    "# #         for co in self.coeffs[1:]:\n",
    "# #             y = y + T*co\n",
    "# #             xT = np.roll(T, 1)\n",
    "# #             xT[0] = 0\n",
    "# #             Tnext = 2*xT - Tprev\n",
    "# #             Tprev = T\n",
    "# #             T = Tnext\n",
    "# #         # now evaluate y2 = polynomials in x\n",
    "# #         P = np.zeros(n)\n",
    "# #         y2 = np.zeros(n)\n",
    "# #         P[0] = 1\n",
    "# #         k0 = -self.c/self.m\n",
    "# #         k1 = 1.0/self.m\n",
    "# #         k0 = k0 + k1*x0\n",
    "# #         k1 = k1/m0\n",
    "# #         for yi in y:\n",
    "# #             y2 = y2 + P*yi\n",
    "# #             Pnext = np.roll(P, 1)*k1\n",
    "# #             Pnext[0] = 0\n",
    "# #             P = Pnext + k0*P\n",
    "# #         return y2\n",
    "# #     def __call__(self, x):\n",
    "# #         xa = np.array(x, copy=False, ndmin=1)\n",
    "# #         u = np.array((xa-self.c)/self.m)\n",
    "# #         Tprev = np.ones(len(u))\n",
    "# #         y = self.coeffs[0] * Tprev\n",
    "# #         if self.degree() > 0:\n",
    "# #             y = y + u*self.coeffs[1]\n",
    "# #             T = u\n",
    "# #         for n in range(2,self.degree()+1):\n",
    "# #             Tnext = 2*u*T - Tprev\n",
    "# #             Tprev = T\n",
    "# #             T = Tnext\n",
    "# #             y = y + T*self.coeffs[n]\n",
    "# #         return y\n",
    "# #     def __repr__(self):\n",
    "# #         return \"Cheby%s\" % (self.range()+tuple(c for c in self.coeffs)).__repr__()\n",
    "# #     @staticmethod\n",
    "# #     @QFunc\n",
    "# #     def fit(func: QParam[QFunc], a: QParam[int], b: QParam[int], degree: QParam[int]):\n",
    "# #         N = degree+1\n",
    "# #         u = chebspace(N)\n",
    "# #         x = (u*(b-a) + (b+a))/2.0\n",
    "# #         y = func(x)\n",
    "# #         T = chebmat(u, N=degree)\n",
    "# #         c = 2.0/N * np.dot(y,T)\n",
    "# #         c[0] = c[0]/2\n",
    "# #         return Cheby(a,b,*c)\n",
    "# import math\n",
    "# import numpy as np\n",
    "# def chebspace(npts):\n",
    "#     t = (np.array(range(0,npts)) + 0.5) / npts\n",
    "#     return -np.cos(t*math.pi)\n",
    "# def chebmat(u, N):\n",
    "#     T = np.column_stack((np.ones(len(u)), u))\n",
    "#     for n in range(2,N+1):\n",
    "#         Tnext = 2*u*T[:,n-1] - T[:,n-2]\n",
    "#         T = np.column_stack((T,Tnext))\n",
    "#     return T\n",
    "# class Cheby(object):\n",
    "#     def __init__(self, a, b, *coeffs):\n",
    "#         self.c = (a+b)/2.0\n",
    "#         self.m = (b-a)/2.0\n",
    "#         self.coeffs = np.array(coeffs, ndmin=1)\n",
    "#     def rangestart(self):\n",
    "#         return self.c-self.m\n",
    "#     def rangeend(self):\n",
    "#         return self.c+self.m\n",
    "#     def range(self):\n",
    "#         return (self.rangestart(), self.rangeend())\n",
    "#     def degree(self):\n",
    "#         return len(self.coeffs)-1\n",
    "#     def truncate(self, n):\n",
    "#         return Cheby(self.rangestart(), self.rangeend(), *self.coeffs[0:n+1])\n",
    "#     def asTaylor(self, x0=0, m0=1.0):\n",
    "#         n = self.degree()+1\n",
    "#         Tprev = np.zeros(n)\n",
    "#         T     = np.zeros(n)\n",
    "#         Tprev[0] = 1\n",
    "#         T[1]  = 1\n",
    "#         # evaluate y = Chebyshev functions as polynomials in u\n",
    "#         y     = self.coeffs[0] * Tprev\n",
    "#         for co in self.coeffs[1:]:\n",
    "#             y = y + T*co\n",
    "#             xT = np.roll(T, 1)\n",
    "#             xT[0] = 0\n",
    "#             Tnext = 2*xT - Tprev\n",
    "#             Tprev = T\n",
    "#             T = Tnext\n",
    "#         # now evaluate y2 = polynomials in x\n",
    "#         P     = np.zeros(n)\n",
    "#         y2    = np.zeros(n)\n",
    "#         P[0]  = 1\n",
    "#         k0 = -self.c/self.m\n",
    "#         k1 = 1.0/self.m\n",
    "#         k0 = k0 + k1*x0\n",
    "#         k1 = k1/m0\n",
    "#         for yi in y:\n",
    "#             y2 = y2 + P*yi\n",
    "#             Pnext = np.roll(P, 1)*k1\n",
    "#             Pnext[0] = 0\n",
    "#             P = Pnext + k0*P\n",
    "#         return y2\n",
    "#     def __call__(self, x):\n",
    "#         xa = np.array(x, copy=False, ndmin=1)\n",
    "#         u = np.array((xa-self.c)/self.m)\n",
    "#         Tprev = np.ones(len(u))\n",
    "#         y = self.coeffs[0] * Tprev\n",
    "#         if self.degree() > 0:\n",
    "#             y = y + u*self.coeffs[1]\n",
    "#             T = u\n",
    "#         for n in range(2,self.degree()+1):\n",
    "#             Tnext = 2*u*T - Tprev\n",
    "#             Tprev = T\n",
    "#             T = Tnext\n",
    "#             y = y + T*self.coeffs[n]\n",
    "#         return y\n",
    "#     def __repr__(self):\n",
    "#         return \"Cheby%s\" % (self.range()+tuple(c for c in self.coeffs)).__repr__()\n",
    "#     @staticmethod\n",
    "#     def fit(func, a, b, degree):\n",
    "#         N = degree+1\n",
    "#         u = chebspace(N)\n",
    "#         x = (u*(b-a) + (b+a))/2.0\n",
    "#         y = func(x)\n",
    "#         T = chebmat(u, N=degree)\n",
    "#         c = 2.0/N * np.dot(y,T)\n",
    "#         c[0] = c[0]/2\n",
    "#         return Cheby(a,b,*c)\n",
    "# import mathimport numpy as np\n",
    "# import numpy as np\n",
    "# from numpy import polynomial as P\n",
    "# import numpy.polynomial.chebyshev as C\n",
    "# def tanh_cheby(x, num_terms):\n",
    "#     \"\"\"\n",
    "#     Computes the Taylor series approximation of tanh(x) up to a specified number of terms.\n",
    "\n",
    "#     Args:\n",
    "#         x: The value at which to evaluate tanh(x).\n",
    "#         num_terms: The number of terms to include in the Taylor series approximation.\n",
    "\n",
    "#     Returns:\n",
    "#         The approximate value of tanh(x) using the Taylor series.\n",
    "#     \"\"\"\n",
    "\n",
    "#     result = 0\n",
    "#     arr = np.array([P.chebyshev.cheb2poly(C.chebinterpolate(np.tanh , 3))])\n",
    "#     for c in arr:\n",
    "#         for n in range(1, num_terms+1):\n",
    "#             term = c*(x**n)\n",
    "#             result += term\n",
    "#     return result\n",
    "import math\n",
    "\n",
    "class Chebyshev:\n",
    "    \"\"\"\n",
    "    Chebyshev(a, b, n, func)\n",
    "    Given a function func, lower and upper limits of the interval [a,b],\n",
    "    and maximum degree n, this class computes a Chebyshev approximation\n",
    "    of the function.\n",
    "    Method eval(x) yields the approximated function value.\n",
    "    \"\"\"\n",
    "    def __init__(self, a, b, n, func):\n",
    "        self.a = a\n",
    "        self.b = b\n",
    "        self.func = func\n",
    "\n",
    "        bma = 0.5 * (b - a)\n",
    "        bpa = 0.5 * (b + a)\n",
    "        f = [func(math.cos(math.pi * (k + 0.5) / n) * bma + bpa) for k in range(n)]\n",
    "        fac = 2.0 / n\n",
    "        self.c = [fac * sum([f[k] * math.cos(math.pi * j * (k + 0.5) / n)\n",
    "                  for k in range(n)]) for j in range(n)]\n",
    "\n",
    "    def eval(self, x):\n",
    "        a,b = self.a, self.b\n",
    "        assert(a <= x <= b)\n",
    "        y = (2.0 * x - a - b) * (1.0 / (b - a))\n",
    "        y2 = 2.0 * y\n",
    "        (d, dd) = (self.c[-1], 0)             # Special case first step for efficiency\n",
    "        for cj in self.c[-2:0:-1]:            # Clenshaw's recurrence\n",
    "            (d, dd) = (y2 * d - dd + cj, d)\n",
    "        return y * d - dd + 0.5 * self.c[0]   # Last step is different\n",
    "\n",
    "    \n",
    "    \n"
   ]
  },
  {
   "cell_type": "code",
   "execution_count": 25,
   "metadata": {},
   "outputs": [],
   "source": [
    "# The heart of the code - the function that calculates the hyperbolic tangent\n",
    "import numpy as np\n",
    "# from numpy import polynomial as P\n",
    "# import numpy.polynomial.chebyshev as C\n",
    "# print(C.chebinterpolate(np.tanh , 2))\n",
    "# c = np.array([0, 0.807538789, 7.49783847*(10**-18)])\n",
    "# print(P.chebyshev.cheb2poly(c))\n",
    "# c = Cheby.fit(np.tanh,0,1,3)\n",
    "# print(c)\n",
    "ch = Chebyshev(0, 1, 2, math.tanh)\n",
    "\n",
    "@QFunc\n",
    "def compute_tanh(precision: QParam[int],    # The precision of x and tanh_x - how many fraction digits will represent your solution\n",
    "                 x: QNum,                   # A quantum variable that is represents numbers\n",
    "                 tanh_x: Output[QNum],# The output of the function, which means it needs to be initialized within the scope of the function      \n",
    "                 ):\n",
    "    \n",
    "    # ch = Chebyshev(0, 1, 3, math.tanh)\n",
    "\n",
    "    \n",
    "   \n",
    "    tanh_x |= ch.eval(x)\n",
    "                             \n",
    "\n",
    "\n",
    "\n",
    "    \n"
   ]
  },
  {
   "cell_type": "code",
   "execution_count": 53,
   "metadata": {},
   "outputs": [],
   "source": [
    "# Your precision value\n",
    "precision = 7"
   ]
  },
  {
   "cell_type": "code",
   "execution_count": 54,
   "metadata": {},
   "outputs": [
    {
     "name": "stdout",
     "output_type": "stream",
     "text": [
      "Opening: https://platform.classiq.io/circuit/9ec9bf98-45cd-4aa0-91f1-a40a00234b9b?version=0.36.1\n"
     ]
    }
   ],
   "source": [
    "# Do not change this part of the code !\n",
    "\n",
    "@QFunc\n",
    "def main(x: Output[QNum],y: Output[QNum]):\n",
    "\n",
    "    # A quantum variable which represents numbers is initialized\n",
    "    allocate_num(num_qubits=precision,      \n",
    "                is_signed=True,            \n",
    "                fraction_digits=precision,\n",
    "                out=x)\n",
    "    \n",
    "    # Initalizing over all possible values of the quantum number with the hadamard transform\n",
    "    hadamard_transform(x)\n",
    "\n",
    "    # Computing your compute_tanh function\n",
    "    compute_tanh(precision,x,y)\n",
    "\n",
    "# Generating the model itslef\n",
    "qmod = create_model(main)\n",
    "qprog = synthesize(qmod)\n",
    "show(qprog)"
   ]
  },
  {
   "cell_type": "markdown",
   "metadata": {},
   "source": [
    "### Saving the Files - What You Need To Submit"
   ]
  },
  {
   "cell_type": "markdown",
   "metadata": {},
   "source": [
    "First, define the precisions of your solutions:"
   ]
  },
  {
   "cell_type": "code",
   "execution_count": 55,
   "metadata": {},
   "outputs": [],
   "source": [
    "#Precision values stages 1&2 - You need to enter these values in Google Form submission\n",
    "precision_value_stage_1 = 6\n",
    "precision_value_stage_2 = 30"
   ]
  },
  {
   "cell_type": "markdown",
   "metadata": {},
   "source": [
    "Then we can create adapted quantum models for the two stages according to the corresponding precisions and constraints:"
   ]
  },
  {
   "cell_type": "code",
   "execution_count": 56,
   "metadata": {},
   "outputs": [],
   "source": [
    "def get_model_with_new_precision(qmod, new_precision):\n",
    "    '''\n",
    "    The function adapts the precision value in the qmod according to the new precision value given.\n",
    "    '''\n",
    "    \n",
    "    @QFunc\n",
    "    def compute_tanh(\n",
    "        precision: QParam[int],\n",
    "        x: QNum,\n",
    "        tanh_x: Output[QNum],\n",
    "    ):\n",
    "        # dummy implementation\n",
    "        allocate_num(precision, False, precision, tanh_x)\n",
    "\n",
    "    @QFunc\n",
    "    def main(x: Output[QNum], y: Output[QNum]):\n",
    "        allocate_num(new_precision, False, new_precision, x)\n",
    "        hadamard_transform(x)\n",
    "        compute_tanh(new_precision, x, y)\n",
    "\n",
    "    new_main = main.create_model().main_func\n",
    "    parsed_qmod = Model_Designer.parse_obj(json.loads(qmod))\n",
    "    new_model = Model_Designer(functions=[f for f in parsed_qmod.functions if f.name != \"main\"] + [new_main])\n",
    "    return new_model.get_model()\n",
    "\n",
    "\n",
    "# Adapting the qmod for the relevant constraints - stage 1\n",
    "max_width_stage_1 = 30\n",
    "max_depth_stage_1 = 3000\n",
    "synthesis_timeout_sec_stage_1 = 90\n",
    "qmod_stage_1 = get_model_with_new_precision(qmod,precision_value_stage_1)\n",
    "qmod_stage_1 = set_constraints(qmod_stage_1,Constraints(max_width=max_width_stage_1,max_depth=max_depth_stage_1))\n",
    "qmod_stage_1 = set_preferences(qmod_stage_1, Preferences(timeout_seconds=synthesis_timeout_sec_stage_1))\n",
    "\n",
    "# Adapting the qmod for the relevant constraints - stage 2\n",
    "max_width_stage_2 = 100\n",
    "max_depth_stage_2 = 30000\n",
    "synthesis_timeout_sec_stage_2 = 180\n",
    "optimization_param = \"depth\"\n",
    "qmod_stage_2 = get_model_with_new_precision(qmod,precision_value_stage_2)\n",
    "qmod_stage_2 = set_constraints(qmod_stage_2,Constraints(max_width=max_width_stage_2,max_depth=max_depth_stage_2,optimization_parameter=optimization_param))\n",
    "qmod_stage_2 = set_preferences(qmod_stage_2, Preferences(timeout_seconds=synthesis_timeout_sec_stage_2))\n"
   ]
  },
  {
   "cell_type": "markdown",
   "metadata": {},
   "source": [
    "Now in order to save the deliverables files, you should adapt the following file names including their locations (no need to include the file extensions, i.e. do not add `.qprog`/`.qmod` at the end):"
   ]
  },
  {
   "cell_type": "code",
   "execution_count": 57,
   "metadata": {},
   "outputs": [],
   "source": [
    "# Files names (no extensions needed!)\n",
    "file_name_qmod = 'qmod_default' #TODO change to your file_name\n",
    "file_name_qprog_stage_1 = 'qprog_stage_1_default' #TODO change to your file_name\n",
    "file_name_qprog_stage_2 = 'qprog_stage_2_default' #TODO change to your file_name"
   ]
  },
  {
   "cell_type": "markdown",
   "metadata": {},
   "source": [
    "Run the following cell to save the relevant deliverables:\n",
    "1. Your model (`.qmod` file)\n",
    "2. Your quantum program for stage 1 with the corresponding precision (`.qprog` file)\n",
    "3. Your quantum program for stage 2 with the corresponding precision (`.qprog` file)"
   ]
  },
  {
   "cell_type": "code",
   "execution_count": 60,
   "metadata": {},
   "outputs": [
    {
     "ename": "KeyboardInterrupt",
     "evalue": "",
     "output_type": "error",
     "traceback": [
      "\u001b[1;31m---------------------------------------------------------------------------\u001b[0m",
      "\u001b[1;31mKeyboardInterrupt\u001b[0m                         Traceback (most recent call last)",
      "Cell \u001b[1;32mIn[60], line 14\u001b[0m\n\u001b[0;32m     11\u001b[0m save_new_file(qmod, file_name_qmod\u001b[38;5;241m+\u001b[39m\u001b[38;5;124m'\u001b[39m\u001b[38;5;124m.qmod\u001b[39m\u001b[38;5;124m'\u001b[39m) \u001b[38;5;66;03m# You need to submit this file\u001b[39;00m\n\u001b[0;32m     13\u001b[0m \u001b[38;5;66;03m# Save the qprof of stage 1\u001b[39;00m\n\u001b[1;32m---> 14\u001b[0m qprog_stage_1 \u001b[38;5;241m=\u001b[39m \u001b[43msynthesize\u001b[49m\u001b[43m(\u001b[49m\u001b[43mqmod_stage_1\u001b[49m\u001b[43m)\u001b[49m\n\u001b[0;32m     15\u001b[0m save_new_file(qprog_stage_1, file_name_qprog_stage_1\u001b[38;5;241m+\u001b[39m\u001b[38;5;124m'\u001b[39m\u001b[38;5;124m.qprog\u001b[39m\u001b[38;5;124m'\u001b[39m) \u001b[38;5;66;03m# You need to submit this file\u001b[39;00m\n\u001b[0;32m     17\u001b[0m \u001b[38;5;66;03m# Save the qprog of stage 2\u001b[39;00m\n",
      "File \u001b[1;32mc:\\Users\\DaBoss\\Downloads\\2024_Classiq\\.conda\\Lib\\site-packages\\classiq\\_internals\\async_utils.py:50\u001b[0m, in \u001b[0;36msyncify_function.<locals>.async_wrapper\u001b[1;34m(*args, **kwargs)\u001b[0m\n\u001b[0;32m     48\u001b[0m \u001b[38;5;129m@functools\u001b[39m\u001b[38;5;241m.\u001b[39mwraps(async_func)\n\u001b[0;32m     49\u001b[0m \u001b[38;5;28;01mdef\u001b[39;00m \u001b[38;5;21masync_wrapper\u001b[39m(\u001b[38;5;241m*\u001b[39margs: Any, \u001b[38;5;241m*\u001b[39m\u001b[38;5;241m*\u001b[39mkwargs: Any) \u001b[38;5;241m-\u001b[39m\u001b[38;5;241m>\u001b[39m T:\n\u001b[1;32m---> 50\u001b[0m     \u001b[38;5;28;01mreturn\u001b[39;00m \u001b[43mrun\u001b[49m\u001b[43m(\u001b[49m\u001b[43masync_func\u001b[49m\u001b[43m(\u001b[49m\u001b[38;5;241;43m*\u001b[39;49m\u001b[43margs\u001b[49m\u001b[43m,\u001b[49m\u001b[43m \u001b[49m\u001b[38;5;241;43m*\u001b[39;49m\u001b[38;5;241;43m*\u001b[39;49m\u001b[43mkwargs\u001b[49m\u001b[43m)\u001b[49m\u001b[43m)\u001b[49m\n",
      "File \u001b[1;32mc:\\Users\\DaBoss\\Downloads\\2024_Classiq\\.conda\\Lib\\site-packages\\classiq\\_internals\\async_utils.py:44\u001b[0m, in \u001b[0;36mrun\u001b[1;34m(coro)\u001b[0m\n\u001b[0;32m     39\u001b[0m \u001b[38;5;28;01mdef\u001b[39;00m \u001b[38;5;21mrun\u001b[39m(coro: Awaitable[T]) \u001b[38;5;241m-\u001b[39m\u001b[38;5;241m>\u001b[39m T:\n\u001b[0;32m     40\u001b[0m     \u001b[38;5;66;03m# Use this function instead of asyncio.run, since it ALWAYS\u001b[39;00m\n\u001b[0;32m     41\u001b[0m     \u001b[38;5;66;03m# creates a new event loop and clears the thread event loop.\u001b[39;00m\n\u001b[0;32m     42\u001b[0m     \u001b[38;5;66;03m# Never use asyncio.run in library code.\u001b[39;00m\n\u001b[0;32m     43\u001b[0m     loop \u001b[38;5;241m=\u001b[39m get_event_loop()\n\u001b[1;32m---> 44\u001b[0m     \u001b[38;5;28;01mreturn\u001b[39;00m \u001b[43mloop\u001b[49m\u001b[38;5;241;43m.\u001b[39;49m\u001b[43mrun_until_complete\u001b[49m\u001b[43m(\u001b[49m\u001b[43mcoro\u001b[49m\u001b[43m)\u001b[49m\n",
      "File \u001b[1;32mc:\\Users\\DaBoss\\Downloads\\2024_Classiq\\.conda\\Lib\\site-packages\\nest_asyncio.py:92\u001b[0m, in \u001b[0;36m_patch_loop.<locals>.run_until_complete\u001b[1;34m(self, future)\u001b[0m\n\u001b[0;32m     90\u001b[0m     f\u001b[38;5;241m.\u001b[39m_log_destroy_pending \u001b[38;5;241m=\u001b[39m \u001b[38;5;28;01mFalse\u001b[39;00m\n\u001b[0;32m     91\u001b[0m \u001b[38;5;28;01mwhile\u001b[39;00m \u001b[38;5;129;01mnot\u001b[39;00m f\u001b[38;5;241m.\u001b[39mdone():\n\u001b[1;32m---> 92\u001b[0m     \u001b[38;5;28;43mself\u001b[39;49m\u001b[38;5;241;43m.\u001b[39;49m\u001b[43m_run_once\u001b[49m\u001b[43m(\u001b[49m\u001b[43m)\u001b[49m\n\u001b[0;32m     93\u001b[0m     \u001b[38;5;28;01mif\u001b[39;00m \u001b[38;5;28mself\u001b[39m\u001b[38;5;241m.\u001b[39m_stopping:\n\u001b[0;32m     94\u001b[0m         \u001b[38;5;28;01mbreak\u001b[39;00m\n",
      "File \u001b[1;32mc:\\Users\\DaBoss\\Downloads\\2024_Classiq\\.conda\\Lib\\site-packages\\nest_asyncio.py:115\u001b[0m, in \u001b[0;36m_patch_loop.<locals>._run_once\u001b[1;34m(self)\u001b[0m\n\u001b[0;32m    108\u001b[0m     heappop(scheduled)\n\u001b[0;32m    110\u001b[0m timeout \u001b[38;5;241m=\u001b[39m (\n\u001b[0;32m    111\u001b[0m     \u001b[38;5;241m0\u001b[39m \u001b[38;5;28;01mif\u001b[39;00m ready \u001b[38;5;129;01mor\u001b[39;00m \u001b[38;5;28mself\u001b[39m\u001b[38;5;241m.\u001b[39m_stopping\n\u001b[0;32m    112\u001b[0m     \u001b[38;5;28;01melse\u001b[39;00m \u001b[38;5;28mmin\u001b[39m(\u001b[38;5;28mmax\u001b[39m(\n\u001b[0;32m    113\u001b[0m         scheduled[\u001b[38;5;241m0\u001b[39m]\u001b[38;5;241m.\u001b[39m_when \u001b[38;5;241m-\u001b[39m \u001b[38;5;28mself\u001b[39m\u001b[38;5;241m.\u001b[39mtime(), \u001b[38;5;241m0\u001b[39m), \u001b[38;5;241m86400\u001b[39m) \u001b[38;5;28;01mif\u001b[39;00m scheduled\n\u001b[0;32m    114\u001b[0m     \u001b[38;5;28;01melse\u001b[39;00m \u001b[38;5;28;01mNone\u001b[39;00m)\n\u001b[1;32m--> 115\u001b[0m event_list \u001b[38;5;241m=\u001b[39m \u001b[38;5;28;43mself\u001b[39;49m\u001b[38;5;241;43m.\u001b[39;49m\u001b[43m_selector\u001b[49m\u001b[38;5;241;43m.\u001b[39;49m\u001b[43mselect\u001b[49m\u001b[43m(\u001b[49m\u001b[43mtimeout\u001b[49m\u001b[43m)\u001b[49m\n\u001b[0;32m    116\u001b[0m \u001b[38;5;28mself\u001b[39m\u001b[38;5;241m.\u001b[39m_process_events(event_list)\n\u001b[0;32m    118\u001b[0m end_time \u001b[38;5;241m=\u001b[39m \u001b[38;5;28mself\u001b[39m\u001b[38;5;241m.\u001b[39mtime() \u001b[38;5;241m+\u001b[39m \u001b[38;5;28mself\u001b[39m\u001b[38;5;241m.\u001b[39m_clock_resolution\n",
      "File \u001b[1;32mc:\\Users\\DaBoss\\Downloads\\2024_Classiq\\.conda\\Lib\\selectors.py:323\u001b[0m, in \u001b[0;36mSelectSelector.select\u001b[1;34m(self, timeout)\u001b[0m\n\u001b[0;32m    321\u001b[0m ready \u001b[38;5;241m=\u001b[39m []\n\u001b[0;32m    322\u001b[0m \u001b[38;5;28;01mtry\u001b[39;00m:\n\u001b[1;32m--> 323\u001b[0m     r, w, _ \u001b[38;5;241m=\u001b[39m \u001b[38;5;28;43mself\u001b[39;49m\u001b[38;5;241;43m.\u001b[39;49m\u001b[43m_select\u001b[49m\u001b[43m(\u001b[49m\u001b[38;5;28;43mself\u001b[39;49m\u001b[38;5;241;43m.\u001b[39;49m\u001b[43m_readers\u001b[49m\u001b[43m,\u001b[49m\u001b[43m \u001b[49m\u001b[38;5;28;43mself\u001b[39;49m\u001b[38;5;241;43m.\u001b[39;49m\u001b[43m_writers\u001b[49m\u001b[43m,\u001b[49m\u001b[43m \u001b[49m\u001b[43m[\u001b[49m\u001b[43m]\u001b[49m\u001b[43m,\u001b[49m\u001b[43m \u001b[49m\u001b[43mtimeout\u001b[49m\u001b[43m)\u001b[49m\n\u001b[0;32m    324\u001b[0m \u001b[38;5;28;01mexcept\u001b[39;00m \u001b[38;5;167;01mInterruptedError\u001b[39;00m:\n\u001b[0;32m    325\u001b[0m     \u001b[38;5;28;01mreturn\u001b[39;00m ready\n",
      "File \u001b[1;32mc:\\Users\\DaBoss\\Downloads\\2024_Classiq\\.conda\\Lib\\selectors.py:314\u001b[0m, in \u001b[0;36mSelectSelector._select\u001b[1;34m(self, r, w, _, timeout)\u001b[0m\n\u001b[0;32m    313\u001b[0m \u001b[38;5;28;01mdef\u001b[39;00m \u001b[38;5;21m_select\u001b[39m(\u001b[38;5;28mself\u001b[39m, r, w, _, timeout\u001b[38;5;241m=\u001b[39m\u001b[38;5;28;01mNone\u001b[39;00m):\n\u001b[1;32m--> 314\u001b[0m     r, w, x \u001b[38;5;241m=\u001b[39m select\u001b[38;5;241m.\u001b[39mselect(r, w, w, timeout)\n\u001b[0;32m    315\u001b[0m     \u001b[38;5;28;01mreturn\u001b[39;00m r, w \u001b[38;5;241m+\u001b[39m x, []\n",
      "\u001b[1;31mKeyboardInterrupt\u001b[0m: "
     ]
    }
   ],
   "source": [
    "def save_new_file(program_to_save,file_name):\n",
    "    '''\n",
    "    A simple function that saves your code as a text file\n",
    "    '''\n",
    "    file = open(file_name,\"w\")\n",
    "    file.write(program_to_save)\n",
    "    file.close()\n",
    "\n",
    "\n",
    "# Saving the qmod\n",
    "save_new_file(qmod, file_name_qmod+'.qmod') # You need to submit this file\n",
    "\n",
    "# Save the qprof of stage 1\n",
    "qprog_stage_1 = synthesize(qmod_stage_1)\n",
    "save_new_file(qprog_stage_1, file_name_qprog_stage_1+'.qprog') # You need to submit this file\n",
    "\n",
    "# Save the qprog of stage 2\n",
    "qprog_stage_2 = synthesize(qmod_stage_2)\n",
    "save_new_file(qprog_stage_2, file_name_qprog_stage_2+'.qprog') # You need to submit this file"
   ]
  },
  {
   "cell_type": "markdown",
   "metadata": {},
   "source": [
    "It's worth checking out your quantum programs by viewing them:"
   ]
  },
  {
   "cell_type": "code",
   "execution_count": 61,
   "metadata": {},
   "outputs": [
    {
     "name": "stdout",
     "output_type": "stream",
     "text": [
      "Opening: https://platform.classiq.io/circuit/4cc34f91-829b-4dca-95b4-33b8203087fc?version=0.36.1\n"
     ]
    }
   ],
   "source": [
    "show(qprog_stage_1)"
   ]
  },
  {
   "cell_type": "code",
   "execution_count": 62,
   "metadata": {},
   "outputs": [
    {
     "name": "stdout",
     "output_type": "stream",
     "text": [
      "Opening: https://platform.classiq.io/circuit/80937708-bf44-4ff2-8250-edab4932b524?version=0.36.1\n"
     ]
    }
   ],
   "source": [
    "show(qprog_stage_2)"
   ]
  },
  {
   "cell_type": "markdown",
   "metadata": {},
   "source": [
    "### Evaluate Your Results"
   ]
  },
  {
   "cell_type": "markdown",
   "metadata": {},
   "source": [
    "Evaluate the results of stage 1:\n",
    "\n",
    "**NOTE!** \n",
    "- With the `aer_simulator` you can simulate up to 25 qubits circuit\n",
    "- With the `nvidia_state_vector_simulator` you can simulate up to 30 qubits circuit, but you can use it up to 10 times, so make sure to use it wisely"
   ]
  },
  {
   "cell_type": "code",
   "execution_count": 63,
   "metadata": {},
   "outputs": [
    {
     "name": "stdout",
     "output_type": "stream",
     "text": [
      "Synthesizing quantum program stage 1 with the execution preferences\n",
      "Synthesized circuit width: 29, depth: 406\n",
      "Executing the quantum program\n",
      "{'x': 0.0, 'y': 0.03201484680175781}\n",
      "{'x': 0.015625, 'y': 0.04411327838897705}\n",
      "{'x': 0.03125, 'y': 0.05621170997619629}\n",
      "{'x': 0.046875, 'y': 0.06831014156341553}\n",
      "{'x': 0.0625, 'y': 0.08040857315063477}\n",
      "{'x': 0.078125, 'y': 0.092507004737854}\n",
      "{'x': 0.09375, 'y': 0.10460543632507324}\n",
      "{'x': 0.109375, 'y': 0.11670386791229248}\n",
      "{'x': 0.125, 'y': 0.12880229949951172}\n",
      "{'x': 0.140625, 'y': 0.14090073108673096}\n",
      "{'x': 0.15625, 'y': 0.1529991626739502}\n",
      "{'x': 0.171875, 'y': 0.16509759426116943}\n",
      "{'x': 0.1875, 'y': 0.17719602584838867}\n",
      "{'x': 0.203125, 'y': 0.1892944574356079}\n",
      "{'x': 0.21875, 'y': 0.20139288902282715}\n",
      "{'x': 0.234375, 'y': 0.2134913206100464}\n",
      "{'x': 0.25, 'y': 0.22558975219726562}\n",
      "{'x': 0.265625, 'y': 0.23768818378448486}\n",
      "{'x': 0.28125, 'y': 0.2497866153717041}\n",
      "{'x': 0.296875, 'y': 0.26188504695892334}\n",
      "{'x': 0.3125, 'y': 0.2739834785461426}\n",
      "{'x': 0.328125, 'y': 0.2860819101333618}\n",
      "{'x': 0.34375, 'y': 0.29818034172058105}\n",
      "{'x': 0.359375, 'y': 0.3102787733078003}\n",
      "{'x': 0.375, 'y': 0.32237720489501953}\n",
      "{'x': 0.390625, 'y': 0.33447563648223877}\n",
      "{'x': 0.40625, 'y': 0.346574068069458}\n",
      "{'x': 0.421875, 'y': 0.35867249965667725}\n",
      "{'x': 0.4375, 'y': 0.3707709312438965}\n",
      "{'x': 0.453125, 'y': 0.3828693628311157}\n",
      "{'x': 0.46875, 'y': 0.39496779441833496}\n",
      "{'x': 0.484375, 'y': 0.4070662260055542}\n",
      "{'x': 0.5, 'y': 0.41916465759277344}\n",
      "{'x': 0.515625, 'y': 0.4312630891799927}\n",
      "{'x': 0.53125, 'y': 0.4433615207672119}\n",
      "{'x': 0.546875, 'y': 0.45545995235443115}\n",
      "{'x': 0.5625, 'y': 0.4675583839416504}\n",
      "{'x': 0.578125, 'y': 0.47965681552886963}\n",
      "{'x': 0.59375, 'y': 0.49175524711608887}\n",
      "{'x': 0.609375, 'y': 0.5038536787033081}\n",
      "{'x': 0.625, 'y': 0.5159521102905273}\n",
      "{'x': 0.640625, 'y': 0.5280505418777466}\n",
      "{'x': 0.65625, 'y': 0.5401489734649658}\n",
      "{'x': 0.671875, 'y': 0.5522474050521851}\n",
      "{'x': 0.6875, 'y': 0.5643458366394043}\n",
      "{'x': 0.703125, 'y': 0.5764442682266235}\n",
      "{'x': 0.71875, 'y': 0.5885426998138428}\n",
      "{'x': 0.734375, 'y': 0.600641131401062}\n",
      "{'x': 0.75, 'y': 0.6127395629882812}\n",
      "{'x': 0.765625, 'y': 0.6248379945755005}\n",
      "{'x': 0.78125, 'y': 0.6369364261627197}\n",
      "{'x': 0.796875, 'y': 0.649034857749939}\n",
      "{'x': 0.8125, 'y': 0.6611332893371582}\n",
      "{'x': 0.828125, 'y': 0.6732317209243774}\n",
      "{'x': 0.84375, 'y': 0.6853301525115967}\n",
      "{'x': 0.859375, 'y': 0.6974285840988159}\n",
      "{'x': 0.875, 'y': 0.7095270156860352}\n",
      "{'x': 0.890625, 'y': 0.7216254472732544}\n",
      "{'x': 0.90625, 'y': 0.7337238788604736}\n",
      "{'x': 0.921875, 'y': 0.7458223104476929}\n",
      "{'x': 0.9375, 'y': 0.7579207420349121}\n",
      "{'x': 0.953125, 'y': 0.7700191736221313}\n",
      "{'x': 0.96875, 'y': 0.7821176052093506}\n",
      "{'x': 0.984375, 'y': 0.7942160367965698}\n",
      "Results of stage 1 \n",
      " Max distance =  0.054394457767989346\n"
     ]
    }
   ],
   "source": [
    "\n",
    "def evaluate_score_stage_1(results, user_input_precision):\n",
    "\n",
    "    # The array of values the code is compared against \n",
    "    calculated_precision = 10\n",
    "    domain = np.arange(0, 1, 1/ 2**calculated_precision)\n",
    "    expected_y = np.tanh(domain)\n",
    "    \n",
    "    # Sort the results according to the values of x\n",
    "    parsed_counts = sorted(results[0].value.parsed_counts, key=lambda x: x.state[\"x\"])\n",
    "    for tuple in parsed_counts: print(tuple.state)\n",
    "\n",
    "    # Form the relevant dictionary with values of 'x' and 'y'\n",
    "    results_dict = {s.state['x']: s.state['y'] for s in parsed_counts}\n",
    "\n",
    "    # Verify all strings were sampled, also no superpositions\n",
    "    assert len(results_dict) == 2 ** user_input_precision \n",
    "\n",
    "    # Comparing to the users results\n",
    "    measured_y = []\n",
    "    for x_val in domain:\n",
    "        # The y value that is assesd at x_val is the y value of the first x the user has such that x<x_val\n",
    "        x_val_floored = int(x_val * (2**user_input_precision)) / (2**user_input_precision)\n",
    "        measured_y.append(results_dict[x_val_floored])\n",
    "\n",
    "    # The metric asseses what's the largest distancce between the expected value and the measured value, the smallest the better\n",
    "    max_distance = np.max(np.abs(expected_y - np.array(measured_y)))\n",
    "    return max_distance\n",
    "\n",
    "def print_depth_width(quantum_program):\n",
    "    generated_circuit = GeneratedCircuit.parse_obj(json.loads(quantum_program))\n",
    "    print(f\"Synthesized circuit width: {generated_circuit.data.width}, depth: {generated_circuit.transpiled_circuit.depth}\")\n",
    "\n",
    "# Execution parameters\n",
    "num_shots = 1000\n",
    "backend_name = \"nvidia_state_vector_simulator\" # \"aer_simulator\", \"nvidia_state_vector_simulator\"\n",
    "\n",
    "qmod_stage_1 = set_execution_preferences(qmod_stage_1, \n",
    "                                        ExecutionPreferences(\n",
    "                                            num_shots=1000,  # The number of shots is a hyperparameter of the algorithm\n",
    "                                            backend_preferences=ClassiqBackendPreferences(\n",
    "                                                                    backend_name=backend_name))) #aer_simulator / nvidia_state_vector_simulator\n",
    "print('Synthesizing quantum program stage 1 with the execution preferences')\n",
    "qprog_stage_1 = synthesize(qmod_stage_1)\n",
    "print_depth_width(qprog_stage_1)\n",
    "print('Executing the quantum program')\n",
    "results = execute(qprog_stage_1).result()\n",
    "print(\"Results of stage 1 \\n Max distance = \", evaluate_score_stage_1(results, precision_value_stage_1))"
   ]
  },
  {
   "cell_type": "markdown",
   "metadata": {},
   "source": [
    "Evluate the results of stage 2:"
   ]
  },
  {
   "cell_type": "code",
   "execution_count": 64,
   "metadata": {},
   "outputs": [
    {
     "name": "stdout",
     "output_type": "stream",
     "text": [
      "\n",
      "Results of stage 2 \n",
      "Precision = 30, Circuit depth = 566\n"
     ]
    }
   ],
   "source": [
    "generated_circuit = GeneratedCircuit.parse_obj(json.loads(qprog_stage_2))\n",
    "print(f'\\nResults of stage 2 \\nPrecision = {precision_value_stage_2}, Circuit depth = {generated_circuit.transpiled_circuit.depth}')"
   ]
  },
  {
   "cell_type": "code",
   "execution_count": 65,
   "metadata": {},
   "outputs": [
    {
     "name": "stdout",
     "output_type": "stream",
     "text": [
      "\n",
      "Results of stage 2 \n",
      "Precision = 30, Circuit depth = 566\n"
     ]
    }
   ],
   "source": [
    "generated_circuit = GeneratedCircuit.parse_obj(json.loads(qprog_stage_2))\n",
    "print(f'\\nResults of stage 2 \\nPrecision = {precision_value_stage_2}, Circuit depth = {generated_circuit.transpiled_circuit.depth}')"
   ]
  },
  {
   "cell_type": "markdown",
   "metadata": {},
   "source": [
    "## Cheat Sheet"
   ]
  },
  {
   "cell_type": "markdown",
   "metadata": {},
   "source": []
  }
 ],
 "metadata": {
  "kernelspec": {
   "display_name": "Python 3.9.7 ('classiq_0_36_1')",
   "language": "python",
   "name": "python3"
  },
  "language_info": {
   "codemirror_mode": {
    "name": "ipython",
    "version": 3
   },
   "file_extension": ".py",
   "mimetype": "text/x-python",
   "name": "python",
   "nbconvert_exporter": "python",
   "pygments_lexer": "ipython3",
   "version": "3.11.7"
  },
  "orig_nbformat": 4,
  "vscode": {
   "interpreter": {
    "hash": "39f2fb914d68d910e6a44db3a048977f45af665714e1ed570fe3896698105d3f"
   }
  }
 },
 "nbformat": 4,
 "nbformat_minor": 2
}
