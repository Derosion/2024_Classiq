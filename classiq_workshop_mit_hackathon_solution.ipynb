{
 "cells": [
  {
   "cell_type": "markdown",
   "metadata": {},
   "source": [
    "# Workshop Preperation for Classiq's Challenge - Quantum Arithmetics"
   ]
  },
  {
   "cell_type": "markdown",
   "metadata": {},
   "source": [
    "Welcome to the Classiq challenge of the 2024 MIT IQuHack hackathon!\n",
    "This Jupyter notebook is a tutorial workshop that should prepare you for the challenge itself.\n",
    "\n",
    "\n",
    "Additional resources you should use are\n",
    "- The IDE of the classiq platform at [platform.classiq.io](platform.classiq.io)\n",
    "- The [community Slack of Classiq](https://short.classiq.io/join-slack) - Classiq's team will answer any question you have over there, including implementation questions\n",
    "- [Classiq's documentation](https://docs.classiq.io/latest/user-guide/platform/) with the dedicated [Python SDK explanations](https://docs.classiq.io/latest/user-guide/platform/qmod/python/functions/)\n",
    "\n",
    "Good luck!"
   ]
  },
  {
   "cell_type": "markdown",
   "metadata": {},
   "source": [
    "![Classiq](MITClassiq.png)"
   ]
  },
  {
   "cell_type": "markdown",
   "metadata": {},
   "source": [
    "## Setting The Scene"
   ]
  },
  {
   "cell_type": "markdown",
   "metadata": {},
   "source": [
    "Install the Classiq SDK package:"
   ]
  },
  {
   "cell_type": "code",
   "execution_count": 1,
   "metadata": {},
   "outputs": [
    {
     "name": "stdout",
     "output_type": "stream",
     "text": [
      "Requirement already satisfied: classiq in /Library/Frameworks/Python.framework/Versions/3.11/lib/python3.11/site-packages (0.36.1)\n",
      "Requirement already satisfied: ConfigArgParse<2.0.0,>=1.5.3 in /Library/Frameworks/Python.framework/Versions/3.11/lib/python3.11/site-packages (from classiq) (1.7)\n",
      "Requirement already satisfied: Pyomo<6.6,>=6.5 in /Library/Frameworks/Python.framework/Versions/3.11/lib/python3.11/site-packages (from classiq) (6.5.0)\n",
      "Requirement already satisfied: httpx<1,>=0.23.0 in /Library/Frameworks/Python.framework/Versions/3.11/lib/python3.11/site-packages (from classiq) (0.26.0)\n",
      "Requirement already satisfied: keyring<24.0.0,>=23.5.0 in /Library/Frameworks/Python.framework/Versions/3.11/lib/python3.11/site-packages (from classiq) (23.13.1)\n",
      "Requirement already satisfied: matplotlib<4.0.0,>=3.4.3 in /Library/Frameworks/Python.framework/Versions/3.11/lib/python3.11/site-packages (from classiq) (3.8.2)\n",
      "Requirement already satisfied: networkx<3.0.0,>=2.5.1 in /Library/Frameworks/Python.framework/Versions/3.11/lib/python3.11/site-packages (from classiq) (2.8.8)\n",
      "Requirement already satisfied: numexpr<3.0.0,>=2.7.3 in /Library/Frameworks/Python.framework/Versions/3.11/lib/python3.11/site-packages (from classiq) (2.9.0)\n",
      "Requirement already satisfied: numpy<2.0.0,>=1.20.1 in /Library/Frameworks/Python.framework/Versions/3.11/lib/python3.11/site-packages (from classiq) (1.26.3)\n",
      "Requirement already satisfied: packaging<22.0,>=21.3 in /Library/Frameworks/Python.framework/Versions/3.11/lib/python3.11/site-packages (from classiq) (21.3)\n",
      "Requirement already satisfied: pandas<2.0.0,>=1.4.0 in /Library/Frameworks/Python.framework/Versions/3.11/lib/python3.11/site-packages (from classiq) (1.5.3)\n",
      "Requirement already satisfied: plotly<6.0.0,>=5.7.0 in /Library/Frameworks/Python.framework/Versions/3.11/lib/python3.11/site-packages (from classiq) (5.18.0)\n",
      "Requirement already satisfied: pydantic<2.0.0,>=1.9.1 in /Library/Frameworks/Python.framework/Versions/3.11/lib/python3.11/site-packages (from classiq) (1.10.14)\n",
      "Requirement already satisfied: sympy<1.11.0,>=1.9.0 in /Library/Frameworks/Python.framework/Versions/3.11/lib/python3.11/site-packages (from classiq) (1.10.1)\n",
      "Requirement already satisfied: tabulate<1,>=0.8.9 in /Library/Frameworks/Python.framework/Versions/3.11/lib/python3.11/site-packages (from classiq) (0.9.0)\n",
      "Requirement already satisfied: anyio in /Library/Frameworks/Python.framework/Versions/3.11/lib/python3.11/site-packages (from httpx<1,>=0.23.0->classiq) (4.2.0)\n",
      "Requirement already satisfied: certifi in /Library/Frameworks/Python.framework/Versions/3.11/lib/python3.11/site-packages (from httpx<1,>=0.23.0->classiq) (2023.5.7)\n",
      "Requirement already satisfied: httpcore==1.* in /Library/Frameworks/Python.framework/Versions/3.11/lib/python3.11/site-packages (from httpx<1,>=0.23.0->classiq) (1.0.2)\n",
      "Requirement already satisfied: idna in /Library/Frameworks/Python.framework/Versions/3.11/lib/python3.11/site-packages (from httpx<1,>=0.23.0->classiq) (3.4)\n",
      "Requirement already satisfied: sniffio in /Library/Frameworks/Python.framework/Versions/3.11/lib/python3.11/site-packages (from httpx<1,>=0.23.0->classiq) (1.3.0)\n",
      "Requirement already satisfied: h11<0.15,>=0.13 in /Library/Frameworks/Python.framework/Versions/3.11/lib/python3.11/site-packages (from httpcore==1.*->httpx<1,>=0.23.0->classiq) (0.14.0)\n",
      "Requirement already satisfied: jaraco.classes in /Library/Frameworks/Python.framework/Versions/3.11/lib/python3.11/site-packages (from keyring<24.0.0,>=23.5.0->classiq) (3.3.0)\n",
      "Requirement already satisfied: importlib-metadata>=4.11.4 in /Library/Frameworks/Python.framework/Versions/3.11/lib/python3.11/site-packages (from keyring<24.0.0,>=23.5.0->classiq) (7.0.1)\n",
      "Requirement already satisfied: contourpy>=1.0.1 in /Library/Frameworks/Python.framework/Versions/3.11/lib/python3.11/site-packages (from matplotlib<4.0.0,>=3.4.3->classiq) (1.2.0)\n",
      "Requirement already satisfied: cycler>=0.10 in /Library/Frameworks/Python.framework/Versions/3.11/lib/python3.11/site-packages (from matplotlib<4.0.0,>=3.4.3->classiq) (0.12.1)\n",
      "Requirement already satisfied: fonttools>=4.22.0 in /Library/Frameworks/Python.framework/Versions/3.11/lib/python3.11/site-packages (from matplotlib<4.0.0,>=3.4.3->classiq) (4.47.0)\n",
      "Requirement already satisfied: kiwisolver>=1.3.1 in /Library/Frameworks/Python.framework/Versions/3.11/lib/python3.11/site-packages (from matplotlib<4.0.0,>=3.4.3->classiq) (1.4.5)\n",
      "Requirement already satisfied: pillow>=8 in /Library/Frameworks/Python.framework/Versions/3.11/lib/python3.11/site-packages (from matplotlib<4.0.0,>=3.4.3->classiq) (10.2.0)\n",
      "Requirement already satisfied: pyparsing>=2.3.1 in /Library/Frameworks/Python.framework/Versions/3.11/lib/python3.11/site-packages (from matplotlib<4.0.0,>=3.4.3->classiq) (3.1.1)\n",
      "Requirement already satisfied: python-dateutil>=2.7 in /Users/bhargav/Library/Python/3.11/lib/python/site-packages (from matplotlib<4.0.0,>=3.4.3->classiq) (2.8.2)\n",
      "Requirement already satisfied: pytz>=2020.1 in /Library/Frameworks/Python.framework/Versions/3.11/lib/python3.11/site-packages (from pandas<2.0.0,>=1.4.0->classiq) (2023.3.post1)\n",
      "Requirement already satisfied: tenacity>=6.2.0 in /Library/Frameworks/Python.framework/Versions/3.11/lib/python3.11/site-packages (from plotly<6.0.0,>=5.7.0->classiq) (8.2.3)\n",
      "Requirement already satisfied: typing-extensions>=4.2.0 in /Library/Frameworks/Python.framework/Versions/3.11/lib/python3.11/site-packages (from pydantic<2.0.0,>=1.9.1->classiq) (4.9.0)\n",
      "Requirement already satisfied: ply in /Library/Frameworks/Python.framework/Versions/3.11/lib/python3.11/site-packages (from Pyomo<6.6,>=6.5->classiq) (3.11)\n",
      "Requirement already satisfied: mpmath>=0.19 in /Library/Frameworks/Python.framework/Versions/3.11/lib/python3.11/site-packages (from sympy<1.11.0,>=1.9.0->classiq) (1.3.0)\n",
      "Requirement already satisfied: zipp>=0.5 in /Library/Frameworks/Python.framework/Versions/3.11/lib/python3.11/site-packages (from importlib-metadata>=4.11.4->keyring<24.0.0,>=23.5.0->classiq) (3.17.0)\n",
      "Requirement already satisfied: six>=1.5 in /Users/bhargav/Library/Python/3.11/lib/python/site-packages (from python-dateutil>=2.7->matplotlib<4.0.0,>=3.4.3->classiq) (1.16.0)\n",
      "Requirement already satisfied: more-itertools in /Library/Frameworks/Python.framework/Versions/3.11/lib/python3.11/site-packages (from jaraco.classes->keyring<24.0.0,>=23.5.0->classiq) (10.2.0)\n"
     ]
    }
   ],
   "source": [
    "!pip install -U classiq"
   ]
  },
  {
   "cell_type": "markdown",
   "metadata": {},
   "source": [
    "You need to authenticate your device in order to use Classiq's backend synthesis engine and IDE. Make sure to register to the platform at [platform.classiq.io](platform.classiq.io) before you run the next cell:"
   ]
  },
  {
   "cell_type": "code",
   "execution_count": 2,
   "metadata": {},
   "outputs": [
    {
     "name": "stderr",
     "output_type": "stream",
     "text": [
      "/Library/Frameworks/Python.framework/Versions/3.11/lib/python3.11/site-packages/classiq/_internals/authentication/token_manager.py:82: UserWarning: Device is already registered.\n",
      "Generating a new refresh token should only be done if the current refresh token is compromised.\n",
      "To do so, set the overwrite parameter to true\n",
      "  warnings.warn(\n"
     ]
    }
   ],
   "source": [
    "import classiq\n",
    "classiq.authenticate()"
   ]
  },
  {
   "cell_type": "code",
   "execution_count": 3,
   "metadata": {},
   "outputs": [],
   "source": [
    "from classiq import *"
   ]
  },
  {
   "cell_type": "markdown",
   "metadata": {},
   "source": [
    "## A Warm Up"
   ]
  },
  {
   "cell_type": "markdown",
   "metadata": {},
   "source": [
    "### First Example"
   ]
  },
  {
   "cell_type": "markdown",
   "metadata": {},
   "source": [
    "Write a function that prepares the minus state $\\ket{-}=\\frac{1}{\\sqrt2}(\\ket{0}-\\ket{1})$, assuming it recives the qubit $\\ket{x}=\\ket{0}$ (hint: \n",
    "\n",
    "<details>\n",
    "<summary>\n",
    "HINT\n",
    "</summary>\n",
    "\n",
    "Use `H(x)`,`X(x)`\n",
    "</details>"
   ]
  },
  {
   "cell_type": "code",
   "execution_count": 4,
   "metadata": {},
   "outputs": [],
   "source": [
    "@QFunc\n",
    "def prepare_minus_state(x:QBit):\n",
    "    X(x)\n",
    "    H(x)"
   ]
  },
  {
   "cell_type": "markdown",
   "metadata": {},
   "source": [
    "Now we will test our code:"
   ]
  },
  {
   "cell_type": "code",
   "execution_count": 5,
   "metadata": {},
   "outputs": [],
   "source": [
    "@QFunc\n",
    "def main(x: Output[QBit]):\n",
    "    allocate(1,x) # Initalize the qubit x\n",
    "    prepare_minus_state(x)"
   ]
  },
  {
   "cell_type": "code",
   "execution_count": 6,
   "metadata": {},
   "outputs": [],
   "source": [
    "quantum_model = create_model(main)\n",
    "quantum_program = synthesize(quantum_model)"
   ]
  },
  {
   "cell_type": "code",
   "execution_count": 7,
   "metadata": {},
   "outputs": [
    {
     "name": "stdout",
     "output_type": "stream",
     "text": [
      "Opening: https://platform.classiq.io/circuit/c5a8233a-4d5b-4f6f-b2bf-587e77426caf?version=0.36.1\n"
     ]
    }
   ],
   "source": [
    "show(quantum_program)"
   ]
  },
  {
   "cell_type": "markdown",
   "metadata": {},
   "source": [
    "Some basic explanations about the high-level functional design with Classiq:\n",
    "\n",
    "* There should always be a main (`def main(...)`) function - the model that captures your algortihm is described there\n",
    "\n",
    "* The model is always generated out of the main function \n",
    "\n",
    "* The model is sent to the synthesis engine (compiler) that return a quantum program which contains the quantum circuit\n"
   ]
  },
  {
   "cell_type": "markdown",
   "metadata": {},
   "source": [
    "Some basic guidelines about the modeling language (QMOD):\n",
    "\n",
    "1. Every quantum variable should be declared, either as a parameter of a funciton e.g. `def prepare_minus(x: QBit)` or within the function itself with `x = QBit('x')`\n",
    "\n",
    "2. Some quantum variables need to be initalized with the `allocate` function. This is required in 2 cases:\n",
    "* A variable is a parameter of a function with the declaration `Output` like `def main(x: Output[QInt])`\n",
    "* A variable that was declared within a function like `a = QInt('a')`\n",
    "\n",
    "3. For the `main` function, you will always use `Output` for all variables, as the function does not receive any input\n",
    "\n",
    "4. Every function you use with the QMOD language should have the decorator `@QFunc` before it"
   ]
  },
  {
   "cell_type": "markdown",
   "metadata": {},
   "source": [
    "Important tip!\n",
    "\n",
    "You can see all the declarations of the functions with what are their input arguments in the `functions.py` file within the classiq package (or by just right clicking a function and presing `Go To Defintion`)"
   ]
  },
  {
   "cell_type": "markdown",
   "metadata": {},
   "source": [
    "### Uniform Superposition"
   ]
  },
  {
   "cell_type": "markdown",
   "metadata": {},
   "source": [
    "Let's continue warming up with creating a function that receives a quantum register and creates a uniform superposistion for all qubits within this array. You should use the function `apply_to_all(gate_operand=, target=)`:"
   ]
  },
  {
   "cell_type": "code",
   "execution_count": 8,
   "metadata": {},
   "outputs": [],
   "source": [
    "@QFunc\n",
    "def create_initial_state(reg: QArray[QBit]):\n",
    "    apply_to_all(H,reg)"
   ]
  },
  {
   "cell_type": "markdown",
   "metadata": {},
   "source": [
    "Test yout function by creating a new main function, synthesizing and viewing the circuit:"
   ]
  },
  {
   "cell_type": "code",
   "execution_count": 9,
   "metadata": {},
   "outputs": [],
   "source": [
    "@QFunc\n",
    "def main(reg: Output[QArray]): #TODO fill int the correct declaration here, what variables this model shoul output?\n",
    "    allocate(4,reg)\n",
    "    create_initial_state(reg)"
   ]
  },
  {
   "cell_type": "code",
   "execution_count": 10,
   "metadata": {},
   "outputs": [
    {
     "name": "stdout",
     "output_type": "stream",
     "text": [
      "Opening: https://platform.classiq.io/circuit/5391a574-b33e-4941-89d6-7d42f0dbddde?version=0.36.1\n"
     ]
    }
   ],
   "source": [
    "qprog = synthesize(create_model(main))\n",
    "show(qprog)"
   ]
  },
  {
   "cell_type": "markdown",
   "metadata": {},
   "source": [
    "## Arithmetic Operations with Classiq"
   ]
  },
  {
   "cell_type": "markdown",
   "metadata": {},
   "source": [
    "One of the key advantages of Classiq is it's simplistic and powerful compiler for quantum arithmetics. Let's see an example:"
   ]
  },
  {
   "cell_type": "code",
   "execution_count": 11,
   "metadata": {},
   "outputs": [],
   "source": [
    "num_qubits = 4\n",
    "fraction_digits = 0 \n",
    "is_signed = True\n",
    "\n",
    "@QFunc\n",
    "def main(x: Output[QNum], y: Output[QNum]):\n",
    "    allocate_num(num_qubits=num_qubits, is_signed=is_signed, fraction_digits=fraction_digits, out=x)\n",
    "    hadamard_transform(x)\n",
    "    y|= x**2 + 1\n",
    "\n",
    "qmod = create_model(main)"
   ]
  },
  {
   "cell_type": "markdown",
   "metadata": {},
   "source": [
    "The `allocate_num` function initalizes a quantum variable that represent numbers. By default it is initalized to the $\\ket{0}$ state. Then the `hadmard_transform` create a superposition of all posible states in the domain $[-2^3,2^3-1]$. Finally, the arithmetic operation creates the entangled superpostion of states:\n",
    "$\\begin{equation}\n",
    "\\sum_{x =-2^3}^{2^3-1}\\ket{x}\\ket{x^2+1}\n",
    "\\end{equation}$\n",
    "\n",
    "The `qmod` variable is a text file that captures the algortihm we have just created. Now, what we want is to synthesize (compile) in order to receive a concrete quantum program that contains the quantum circuit implementation."
   ]
  },
  {
   "cell_type": "code",
   "execution_count": 12,
   "metadata": {},
   "outputs": [],
   "source": [
    "qprog = synthesize(qmod)"
   ]
  },
  {
   "cell_type": "markdown",
   "metadata": {},
   "source": [
    "And in order to view it:"
   ]
  },
  {
   "cell_type": "code",
   "execution_count": 13,
   "metadata": {},
   "outputs": [
    {
     "name": "stdout",
     "output_type": "stream",
     "text": [
      "Opening: https://platform.classiq.io/circuit/33d8a07b-57d5-4317-b276-bfddaadad300?version=0.36.1\n"
     ]
    }
   ],
   "source": [
    "show(qprog)"
   ]
  },
  {
   "cell_type": "markdown",
   "metadata": {},
   "source": [
    "## Advanced Arithmetics"
   ]
  },
  {
   "cell_type": "markdown",
   "metadata": {},
   "source": [
    "Now let's create a general linear function with Classiq: $y= ax+b$ where $a,b$ are classical integer parameters and $x,y$ is a quantum states representing integers:"
   ]
  },
  {
   "cell_type": "code",
   "execution_count": 14,
   "metadata": {},
   "outputs": [],
   "source": [
    "@QFunc\n",
    "def linear_func(a:QParam[int],b: QParam[int], x:QNum, y: Output[QNum]):\n",
    "    y |= a*x+b"
   ]
  },
  {
   "cell_type": "code",
   "execution_count": 15,
   "metadata": {},
   "outputs": [],
   "source": [
    "@QFunc\n",
    "def main(x:Output[QNum], y: Output[QNum]):\n",
    "\n",
    "    a = 2\n",
    "    b = 1\n",
    "    allocate_num(num_qubits=4,is_signed=False,fraction_digits=0,out=x)\n",
    "    hadamard_transform(x)\n",
    "    linear_func(a,b,x,y)\n",
    "\n",
    "qmod = create_model(main)"
   ]
  },
  {
   "cell_type": "code",
   "execution_count": 16,
   "metadata": {},
   "outputs": [],
   "source": [
    "qprog = synthesize(qmod)"
   ]
  },
  {
   "cell_type": "markdown",
   "metadata": {},
   "source": [
    "Let's execute the circuit from directly from the SDK:"
   ]
  },
  {
   "cell_type": "code",
   "execution_count": 17,
   "metadata": {},
   "outputs": [],
   "source": [
    "job = execute(qprog)"
   ]
  },
  {
   "cell_type": "markdown",
   "metadata": {},
   "source": [
    "And we can view the results in the IDE:"
   ]
  },
  {
   "cell_type": "code",
   "execution_count": 18,
   "metadata": {},
   "outputs": [],
   "source": [
    "job.open_in_ide()"
   ]
  },
  {
   "cell_type": "markdown",
   "metadata": {},
   "source": [
    "Or to directly analyze it within the SDK:"
   ]
  },
  {
   "cell_type": "code",
   "execution_count": 19,
   "metadata": {},
   "outputs": [
    {
     "name": "stdout",
     "output_type": "stream",
     "text": [
      "{'x': 10.0, 'y': 21.0}\n",
      "{'x': 14.0, 'y': 29.0}\n",
      "{'x': 15.0, 'y': 31.0}\n",
      "{'x': 4.0, 'y': 9.0}\n",
      "{'x': 11.0, 'y': 23.0}\n",
      "{'x': 13.0, 'y': 27.0}\n",
      "{'x': 7.0, 'y': 15.0}\n",
      "{'x': 3.0, 'y': 7.0}\n",
      "{'x': 6.0, 'y': 13.0}\n",
      "{'x': 0.0, 'y': 1.0}\n",
      "{'x': 2.0, 'y': 5.0}\n",
      "{'x': 1.0, 'y': 3.0}\n",
      "{'x': 9.0, 'y': 19.0}\n",
      "{'x': 5.0, 'y': 11.0}\n",
      "{'x': 8.0, 'y': 17.0}\n",
      "{'x': 12.0, 'y': 25.0}\n"
     ]
    }
   ],
   "source": [
    "results = job.result()\n",
    "parsed_counts = results[0].value.parsed_counts\n",
    "for sampled_state in parsed_counts: print(sampled_state.state)"
   ]
  },
  {
   "cell_type": "markdown",
   "metadata": {},
   "source": [
    "Now it's your turn! Implement the same linear function, but now $x$ is in the domain $[0,1)$ and is represented by 4 qubits. The parameters $a,b$ should be now `float` with the values of: $a=0.5, b=1.5$."
   ]
  },
  {
   "cell_type": "code",
   "execution_count": 20,
   "metadata": {},
   "outputs": [],
   "source": [
    "@QFunc\n",
    "def linear_func(a:QParam[float],b: QParam[float], x:QNum, y: Output[QNum]):\n",
    "    y |= a*x+b\n",
    "\n",
    "@QFunc\n",
    "def main(x:Output[QNum], y: Output[QNum]):\n",
    "\n",
    "    a = 0.5\n",
    "    b = 1.5\n",
    "    allocate_num(num_qubits=4,is_signed=False,fraction_digits=4,out=x)\n",
    "    hadamard_transform(x)\n",
    "    linear_func(a,b,x,y)\n",
    "\n",
    "qmod = create_model(main)"
   ]
  },
  {
   "cell_type": "code",
   "execution_count": 21,
   "metadata": {},
   "outputs": [],
   "source": [
    "qprog = synthesize(qmod)"
   ]
  },
  {
   "cell_type": "markdown",
   "metadata": {},
   "source": [
    "## Tutorial - Two controlled Linear operations"
   ]
  },
  {
   "cell_type": "markdown",
   "metadata": {},
   "source": [
    "Let's say we want now to have two linear operations applied on the same quantum variable (register). But the arithmetic operation initalize a new quantum variable, so how can we do that? The answer is that we need to apply the operation to another variable and then XOR it to the variable we want. \n",
    "\n",
    "This can be useful if the linear operation we want to apply is controlled upon a control variable. Let's first define the functional buildng block:"
   ]
  },
  {
   "cell_type": "code",
   "execution_count": 22,
   "metadata": {},
   "outputs": [],
   "source": [
    "@QFunc\n",
    "def inplace_linear_attempt(a:QParam[int],b: QParam[int], x:QNum, y: QNum):\n",
    "    tmp = QNum('tmp')\n",
    "    linear_func(a,b,x,tmp)\n",
    "    inplace_xor(tmp,y)"
   ]
  },
  {
   "cell_type": "markdown",
   "metadata": {},
   "source": [
    "And checking our basic function implementation:"
   ]
  },
  {
   "cell_type": "code",
   "execution_count": 23,
   "metadata": {},
   "outputs": [
    {
     "name": "stdout",
     "output_type": "stream",
     "text": [
      "Opening: https://platform.classiq.io/circuit/3871ad46-dd3d-4cc2-add4-74172966c438?version=0.36.1\n"
     ]
    }
   ],
   "source": [
    "@QFunc\n",
    "def main(x: Output[QNum],y: Output[QNum]):\n",
    "    a = 1\n",
    "    b = 2\n",
    "\n",
    "    allocate_num(4,False,0,y)\n",
    "    allocate_num(4,False,0,x)\n",
    "    hadamard_transform(x)\n",
    "    inplace_linear_attempt(a,b,x,y)\n",
    "\n",
    "qmod = create_model(main)\n",
    "qprog = synthesize(qmod)\n",
    "show(qprog)"
   ]
  },
  {
   "cell_type": "markdown",
   "metadata": {},
   "source": [
    "Ok, cool. So now we want to add a control qubit that controlled on the state $\\ket{0}$ implements the linear funciton $\\ket{x}\\rightarrow\\ket{x}\\ket{x+2}$ and controlled on the state $\\ket{1}$ implements the linear function $\\ket{x}\\rightarrow\\ket{x}\\ket{2x+1}$:"
   ]
  },
  {
   "cell_type": "code",
   "execution_count": 24,
   "metadata": {},
   "outputs": [],
   "source": [
    "@QFunc\n",
    "def control_logic(a: QParam[list[int]], b: QParam[list[int]], controller:QNum, x: QNum, y: QNum):\n",
    "    \n",
    "    repeat( count=a.len(),         \n",
    "            iteration=lambda i: quantum_if(controller==i, lambda: inplace_linear_attempt(a[i],b[i],x,y)))\n"
   ]
  },
  {
   "cell_type": "code",
   "execution_count": 25,
   "metadata": {},
   "outputs": [],
   "source": [
    "@QFunc\n",
    "def main(controller: Output[QNum], x: Output[QNum],y: Output[QNum]):\n",
    "\n",
    "    # Linear polynom parameters\n",
    "    a = [1,2]\n",
    "    b = [2,1]\n",
    "\n",
    "    # Initalizing x to a superposition in the domain [0,2^4-1]\n",
    "    allocate_num(4,False,0,x)\n",
    "    hadamard_transform(x)\n",
    "    \n",
    "    #Initalize y\n",
    "    allocate_num(4,False,0,y)\n",
    "\n",
    "    # Setting the controller in a superpostion\n",
    "    allocate_num(1,False,0,controller)\n",
    "    H(controller)\n",
    "\n",
    "    # Implementing the control logic\n",
    "    control_logic(a,b,controller,x,y)\n",
    "\n",
    "    \n",
    "qmod = create_model(main)"
   ]
  },
  {
   "cell_type": "code",
   "execution_count": 26,
   "metadata": {},
   "outputs": [
    {
     "name": "stdout",
     "output_type": "stream",
     "text": [
      "Opening: https://platform.classiq.io/circuit/2111f305-8513-463e-8633-88c384b3ef96?version=0.36.1\n"
     ]
    }
   ],
   "source": [
    "qprog = synthesize(qmod)\n",
    "show(qprog)"
   ]
  },
  {
   "cell_type": "markdown",
   "metadata": {},
   "source": [
    "By executing we can actually see we get what we want:"
   ]
  },
  {
   "cell_type": "code",
   "execution_count": 27,
   "metadata": {},
   "outputs": [
    {
     "name": "stdout",
     "output_type": "stream",
     "text": [
      "{'controller': 0.0, 'x': 10.0, 'y': 12.0}\n",
      "{'controller': 1.0, 'x': 10.0, 'y': 5.0}\n",
      "{'controller': 1.0, 'x': 8.0, 'y': 1.0}\n",
      "{'controller': 1.0, 'x': 15.0, 'y': 15.0}\n",
      "{'controller': 1.0, 'x': 12.0, 'y': 9.0}\n",
      "{'controller': 0.0, 'x': 6.0, 'y': 8.0}\n",
      "{'controller': 0.0, 'x': 13.0, 'y': 15.0}\n",
      "{'controller': 1.0, 'x': 14.0, 'y': 13.0}\n",
      "{'controller': 1.0, 'x': 2.0, 'y': 5.0}\n",
      "{'controller': 1.0, 'x': 4.0, 'y': 9.0}\n",
      "{'controller': 0.0, 'x': 12.0, 'y': 14.0}\n",
      "{'controller': 0.0, 'x': 14.0, 'y': 0.0}\n",
      "{'controller': 1.0, 'x': 13.0, 'y': 11.0}\n",
      "{'controller': 1.0, 'x': 3.0, 'y': 7.0}\n",
      "{'controller': 0.0, 'x': 4.0, 'y': 6.0}\n",
      "{'controller': 1.0, 'x': 9.0, 'y': 3.0}\n",
      "{'controller': 1.0, 'x': 6.0, 'y': 13.0}\n",
      "{'controller': 0.0, 'x': 15.0, 'y': 1.0}\n",
      "{'controller': 1.0, 'x': 1.0, 'y': 3.0}\n",
      "{'controller': 1.0, 'x': 5.0, 'y': 11.0}\n",
      "{'controller': 0.0, 'x': 7.0, 'y': 9.0}\n",
      "{'controller': 0.0, 'x': 3.0, 'y': 5.0}\n",
      "{'controller': 0.0, 'x': 0.0, 'y': 2.0}\n",
      "{'controller': 0.0, 'x': 11.0, 'y': 13.0}\n",
      "{'controller': 1.0, 'x': 0.0, 'y': 1.0}\n",
      "{'controller': 0.0, 'x': 8.0, 'y': 10.0}\n",
      "{'controller': 1.0, 'x': 11.0, 'y': 7.0}\n",
      "{'controller': 0.0, 'x': 1.0, 'y': 3.0}\n",
      "{'controller': 0.0, 'x': 9.0, 'y': 11.0}\n",
      "{'controller': 1.0, 'x': 7.0, 'y': 15.0}\n",
      "{'controller': 0.0, 'x': 5.0, 'y': 7.0}\n",
      "{'controller': 0.0, 'x': 2.0, 'y': 4.0}\n"
     ]
    }
   ],
   "source": [
    "def print_parsed_counts(job):\n",
    "    results = job.result()\n",
    "    parsed_counts = results[0].value.parsed_counts\n",
    "    for parsed_state in parsed_counts: print(parsed_state.state)\n",
    "\n",
    "job = execute(qprog)\n",
    "print_parsed_counts(job)"
   ]
  },
  {
   "cell_type": "markdown",
   "metadata": {},
   "source": [
    "Of course there is the issue of rounding and overflow - when one tries to represent $2*15+1=31$ with $4$ binary digits that's not possible (because the domain $[0,31]$ of integers is represented by at least 5 bits). See our [documentation](https://docs.classiq.io/latest/user-guide/platform/qmod/python/quantum-expressions/#inplace-arithmetic-operators) for further explanations.\n",
    "\n",
    "Let's try to use Classiq and optimize the circuit for minimal circuit width:"
   ]
  },
  {
   "cell_type": "code",
   "execution_count": 28,
   "metadata": {},
   "outputs": [
    {
     "name": "stdout",
     "output_type": "stream",
     "text": [
      "Synthesized circuit width: 20, depth: 688\n"
     ]
    }
   ],
   "source": [
    "def print_depth_width(quantum_program):\n",
    "    generated_circuit = GeneratedCircuit.parse_raw(quantum_program)\n",
    "    print(f\"Synthesized circuit width: {generated_circuit.data.width}, depth: {generated_circuit.transpiled_circuit.depth}\")\n",
    "\n",
    "qmod = set_constraints(qmod,Constraints(optimization_parameter='width'))\n",
    "qprog = synthesize(qmod)\n",
    "print_depth_width(qprog)"
   ]
  },
  {
   "cell_type": "markdown",
   "metadata": {},
   "source": [
    "And when optimizng for depth:"
   ]
  },
  {
   "cell_type": "code",
   "execution_count": 29,
   "metadata": {},
   "outputs": [
    {
     "name": "stdout",
     "output_type": "stream",
     "text": [
      "Synthesized circuit width: 32, depth: 398\n"
     ]
    }
   ],
   "source": [
    "qmod = set_constraints(qmod,Constraints(optimization_parameter='depth'))\n",
    "qprog = synthesize(qmod)\n",
    "print_depth_width(qprog)"
   ]
  },
  {
   "cell_type": "markdown",
   "metadata": {},
   "source": [
    "Firstly, we can see here a clear demonstration of the power of high-level functional design! The same algortihm with the same functionality was optimized once for depth and once for width and the result is 2 different circuits with different characteristics that implement the same functionality.\n",
    "\n",
    "Secondly, is this the best we can do? Obviously the Classiq synthesis engine is optimizing for us the algortihm quite good. But, can we change something with our functionality, with our algorithm to get more efficient circuits? \n",
    "\n",
    "If we go back to out `inplace_linear_attempt` function, we can see that we initalize a `tmp` variable that requires more qubits and is not used. For such scenarios we have the `within_apply`. This logic implemnts sort of $UVU^{\\dagger}$ and when temporary variables are outputs of $U$ and used only by $V$ they are uncomputed by $U^{\\dagger}$. Let's see for our example:"
   ]
  },
  {
   "cell_type": "code",
   "execution_count": 30,
   "metadata": {},
   "outputs": [],
   "source": [
    "@QFunc\n",
    "def inplace_linear_func(a:QParam[int],b: QParam[int], x:QNum, y: QNum):\n",
    "    tmp = QNum('tmp')\n",
    "    within_apply(compute= lambda: linear_func(a,b,x,tmp),\n",
    "                action= lambda: inplace_xor(tmp,y))"
   ]
  },
  {
   "cell_type": "markdown",
   "metadata": {},
   "source": [
    "With the new `control_logic`:"
   ]
  },
  {
   "cell_type": "code",
   "execution_count": 31,
   "metadata": {},
   "outputs": [],
   "source": [
    "@QFunc\n",
    "def control_logic_2(a: QParam[list[int]], b: QParam[list[int]], controller:QNum, x: QNum, y: QNum):\n",
    "    \n",
    "    repeat( count=a.len(),         \n",
    "            iteration=lambda i: quantum_if(controller==i, lambda: inplace_linear_func(a[i],b[i],x,y)))"
   ]
  },
  {
   "cell_type": "markdown",
   "metadata": {},
   "source": [
    "And when we put all together now:"
   ]
  },
  {
   "cell_type": "code",
   "execution_count": 32,
   "metadata": {},
   "outputs": [],
   "source": [
    "@QFunc\n",
    "def main(controller: Output[QNum], x: Output[QNum],y: Output[QNum]):\n",
    "\n",
    "    # Linear polynom parameters\n",
    "    a = [1,2]\n",
    "    b = [2,1]\n",
    "\n",
    "    # Initalizing x to a superposition in the domain [0,2^4-1]\n",
    "    allocate_num(4,False,0,x)\n",
    "    hadamard_transform(x)\n",
    "    \n",
    "    #Initalize y\n",
    "    allocate_num(4,False,0,y)\n",
    "\n",
    "    # Setting the controller in a superpostion\n",
    "    allocate_num(1,False,0,controller)\n",
    "    H(controller)\n",
    "\n",
    "    # Implementing the control logic\n",
    "    control_logic_2(a,b,controller,x,y)\n",
    "\n",
    "    \n",
    "qmod = create_model(main)"
   ]
  },
  {
   "cell_type": "code",
   "execution_count": 33,
   "metadata": {},
   "outputs": [],
   "source": [
    "qprog = synthesize(qmod)"
   ]
  },
  {
   "cell_type": "code",
   "execution_count": 34,
   "metadata": {},
   "outputs": [
    {
     "name": "stdout",
     "output_type": "stream",
     "text": [
      "Opening: https://platform.classiq.io/circuit/b89c12ec-a69c-43a8-9889-f2658c58fddc?version=0.36.1\n"
     ]
    }
   ],
   "source": [
    "show(qprog)"
   ]
  },
  {
   "cell_type": "markdown",
   "metadata": {},
   "source": [
    "And now when we optimize for width:"
   ]
  },
  {
   "cell_type": "code",
   "execution_count": 35,
   "metadata": {},
   "outputs": [
    {
     "name": "stdout",
     "output_type": "stream",
     "text": [
      "Synthesized circuit width: 16, depth: 244\n"
     ]
    }
   ],
   "source": [
    "qmod = set_constraints(qmod,Constraints(optimization_parameter='width'))\n",
    "qprog = synthesize(qmod)\n",
    "print_depth_width(qprog)"
   ]
  },
  {
   "cell_type": "markdown",
   "metadata": {},
   "source": [
    "And for depth:"
   ]
  },
  {
   "cell_type": "code",
   "execution_count": 36,
   "metadata": {},
   "outputs": [
    {
     "name": "stdout",
     "output_type": "stream",
     "text": [
      "Synthesized circuit width: 45, depth: 203\n"
     ]
    }
   ],
   "source": [
    "qmod = set_constraints(qmod,Constraints(optimization_parameter='depth'))\n",
    "qprog = synthesize(qmod)\n",
    "print_depth_width(qprog)"
   ]
  },
  {
   "cell_type": "markdown",
   "metadata": {},
   "source": [
    "So using the `within_apply` logic enabled us to reduce the optimal circuit implementation in terms of width from $20$ to $16$ and the optimal circuit depth from $398$ to $203$! I think both can be useful for you for the hackahton :) "
   ]
  },
  {
   "cell_type": "markdown",
   "metadata": {},
   "source": [
    "## Cheat Sheet"
   ]
  },
  {
   "cell_type": "markdown",
   "metadata": {},
   "source": [
    "### Initalizations"
   ]
  },
  {
   "cell_type": "code",
   "execution_count": 37,
   "metadata": {},
   "outputs": [
    {
     "ename": "SyntaxError",
     "evalue": "invalid syntax (3080728366.py, line 2)",
     "output_type": "error",
     "traceback": [
      "\u001b[0;36m  Cell \u001b[0;32mIn[37], line 2\u001b[0;36m\u001b[0m\n\u001b[0;31m    num_qubits: QParam[int],\u001b[0m\n\u001b[0m              ^\u001b[0m\n\u001b[0;31mSyntaxError\u001b[0m\u001b[0;31m:\u001b[0m invalid syntax\n"
     ]
    }
   ],
   "source": [
    "allocate(\n",
    "    num_qubits: QParam[int],\n",
    "    out: Output[QArray[QBit, Literal[\"num_qubits\"]]])\n",
    "    '''\n",
    "    x = QArray('x')\n",
    "    allocate(4,x)\n",
    "    '''\n",
    "\n",
    "allocate_num(\n",
    "    num_qubits: QParam[int],\n",
    "    is_signed: QParam[bool],\n",
    "    fraction_digits: QParam[int],\n",
    "    out: Output[QNum])\n",
    "'''\n",
    "x = QNum('x')\n",
    "allocate_num(4,False,4,x)\n",
    "'''"
   ]
  },
  {
   "cell_type": "markdown",
   "metadata": {},
   "source": [
    "### Operations"
   ]
  },
  {
   "cell_type": "code",
   "execution_count": null,
   "metadata": {},
   "outputs": [],
   "source": [
    "repeat(\n",
    "    count: QParam[int],\n",
    "    iteration: QCallable[QParam[int]],\n",
    ")\n",
    "'''\n",
    "x = QArray\n",
    "allocate(4,x)\n",
    "repeat(x.len(),lambda index: H(x))\n",
    "'''\n",
    "\n",
    "control(\n",
    "    operand: QCallable,\n",
    "    ctrl: QArray[QBit],\n",
    ") \n",
    "'''\n",
    "x = QArray('x')\n",
    "y = QArray('y')\n",
    "x = allocate(4,x)\n",
    "y = allocate(4,y)\n",
    "repeat(x.len(),lambda i: control(lambda: X(y[i]),x[i]))\n",
    "'''"
   ]
  }
 ],
 "metadata": {
  "kernelspec": {
   "display_name": "Python 3.11.7 ('classiq')",
   "language": "python",
   "name": "python3"
  },
  "language_info": {
   "codemirror_mode": {
    "name": "ipython",
    "version": 3
   },
   "file_extension": ".py",
   "mimetype": "text/x-python",
   "name": "python",
   "nbconvert_exporter": "python",
   "pygments_lexer": "ipython3",
   "version": "3.11.3"
  },
  "orig_nbformat": 4,
  "vscode": {
   "interpreter": {
    "hash": "529b62266d4f537a408698cf820854c65fe877011c7661f0f70aa11c4383fddc"
   }
  }
 },
 "nbformat": 4,
 "nbformat_minor": 2
}
